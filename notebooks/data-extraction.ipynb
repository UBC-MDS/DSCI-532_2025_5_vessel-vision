{
 "cells": [
  {
   "cell_type": "markdown",
   "metadata": {},
   "source": [
    "# AIS Data Extraction from NOAA"
   ]
  },
  {
   "cell_type": "markdown",
   "metadata": {},
   "source": [
    "## 1. Introduction\n",
    "The dataset used in this extraction process originates from the **National Oceanic and Atmospheric Administration (NOAA)**. NOAA is a scientific agency within the United States Department of Commerce that focuses on the conditions of the oceans, major waterways, and the atmosphere.\n",
    "\n",
    "For this project, we have extracted **Automatic Identification System (AIS) data** for two specific dates:\n",
    "\n",
    "- December 31, 2023 (New Year's Eve)\n",
    "\n",
    "- January 1, 2024 (New Year's Day)\n",
    "\n",
    "These dates were chosen due to increased shipping activity at the year's end, influenced by year-end deadlines and operational surges in maritime traffic.\n",
    "\n",
    "## 2. About AIS Data\n",
    "\n",
    "AIS (Automatic Identification System) is an automatic tracking system used on ships and by vessel traffic services (VTS) to identify and locate vessels. It is widely used for navigation, safety, and maritime traffic monitoring.\n",
    "\n",
    "### Key Fields in AIS Data:\n",
    "\n",
    "- **MMSI**: Unique identifier for the vessel.  \n",
    "- **Timestamp**: The date and time of the AIS message.  \n",
    "- **Latitude & Longitude**: The geographical position of the vessel.  \n",
    "- **Speed (knots)**: Speed of the vessel over ground.  \n",
    "- **Course (degrees)**: Direction of the vessel.  \n",
    "- **Heading (degrees)**: The actual heading of the vessel.  \n",
    "- **Ship Type**: Classification of the vessel type (cargo, tanker, fishing, etc.).  \n",
    "\n",
    "## 3. Data Availability\n",
    "The AIS data has already been downloaded from NOAA and can be accessed from the following public Google Drive link:\n",
    "[Download AIS Data](https://drive.google.com/drive/folders/1zxJuSRigLEg4iY1pnUgW-Z49s2TEKEip?usp=sharing)\n",
    "\n",
    "After downloading, store the files in the `data` folder of this project and then run the script below.\n",
    "These files are also available on the NOAA website at the following link:\n",
    "[Download AIS Data 2023](https://www.coast.noaa.gov/htdata/CMSP/AISDataHandler/2023/index.html)\n",
    "[Download AIS Data 2024](https://coast.noaa.gov/htdata/CMSP/AISDataHandler/2024/index.html)\n",
    "\n",
    "## 4. Data Extraction Process\n",
    "The following Python script demonstrates how to load and process the NOAA AIS data for December 31, 2023, and January 1, 2024.\n",
    "This Python script automates downloading, extracting, and saving the AIS data from our shared Google Drive folder. It assumes that users have set up their environment using `environment.yaml` of this project, which includes the necessary packages."
   ]
  },
  {
   "cell_type": "code",
   "execution_count": 4,
   "metadata": {},
   "outputs": [
    {
     "name": "stdout",
     "output_type": "stream",
     "text": [
      "Warning: You are not in the root directory of the project (DSCI-532_2025_5_vessel-vision).\n",
      "Attempting to navigate back to the root directory...\n",
      "Successfully navigated to the project root: c:\\Users\\Azin\\Desktop\\Azin files\\Azin's Document\\UBC\\block 5\\532_viz-2\\DSCI-532_2025_5_vessel-vision\n",
      "Please ensure that you have used our environment.yaml to install required packages.\n",
      "Downloading zip files...\n"
     ]
    },
    {
     "name": "stderr",
     "output_type": "stream",
     "text": [
      "Retrieving folder contents\n"
     ]
    },
    {
     "name": "stdout",
     "output_type": "stream",
     "text": [
      "Processing file 1QBwqQFscsB42OMDkm8TyXYtc__-0wcma AIS_2023_12_31.zip\n",
      "Processing file 1up1ryhemg8HAI8ASKk_sKLkQ092l3m2Z AIS_2024_01_01.zip\n"
     ]
    },
    {
     "name": "stderr",
     "output_type": "stream",
     "text": [
      "Retrieving folder contents completed\n",
      "Building directory structure\n",
      "Building directory structure completed\n",
      "Downloading...\n",
      "From (original): https://drive.google.com/uc?id=1QBwqQFscsB42OMDkm8TyXYtc__-0wcma\n",
      "From (redirected): https://drive.google.com/uc?id=1QBwqQFscsB42OMDkm8TyXYtc__-0wcma&confirm=t&uuid=63926a09-8db2-4e01-ad2d-b84bcba606f9\n",
      "To: c:\\Users\\Azin\\Desktop\\Azin files\\Azin's Document\\UBC\\block 5\\532_viz-2\\DSCI-532_2025_5_vessel-vision\\data\\raw\\AIS_2023_12_31.zip\n",
      "100%|██████████| 285M/285M [02:52<00:00, 1.65MB/s] \n",
      "Downloading...\n",
      "From (original): https://drive.google.com/uc?id=1up1ryhemg8HAI8ASKk_sKLkQ092l3m2Z\n",
      "From (redirected): https://drive.google.com/uc?id=1up1ryhemg8HAI8ASKk_sKLkQ092l3m2Z&confirm=t&uuid=673a10f8-c2e3-48d2-beb3-0b2a9a223abc\n",
      "To: c:\\Users\\Azin\\Desktop\\Azin files\\Azin's Document\\UBC\\block 5\\532_viz-2\\DSCI-532_2025_5_vessel-vision\\data\\raw\\AIS_2024_01_01.zip\n",
      "100%|██████████| 290M/290M [02:50<00:00, 1.71MB/s] \n",
      "Download completed\n"
     ]
    },
    {
     "name": "stdout",
     "output_type": "stream",
     "text": [
      "Extracting AIS_2023_12_31.zip...\n",
      "Extracted: AIS_2023_12_31.zip\n",
      "Extracting AIS_2024_01_01.zip...\n",
      "Extracted: AIS_2024_01_01.zip\n",
      "All files downloaded and extracted successfully.\n"
     ]
    }
   ],
   "source": [
    "import gdown\n",
    "import zipfile\n",
    "import os\n",
    "import sys\n",
    "\n",
    "# Define the project root folder\n",
    "project_root = \"DSCI-532_2025_5_vessel-vision\"\n",
    "\n",
    "# Check if the script is being run from the project root directory\n",
    "current_directory = os.getcwd()\n",
    "if os.path.basename(current_directory) != project_root:\n",
    "    print(f\"Warning: You are not in the root directory of the project ({project_root}).\")\n",
    "    print(\"Attempting to navigate back to the root directory...\")\n",
    "    \n",
    "    # Try to navigate back to the project root directory\n",
    "    parent_directory = os.path.abspath(os.path.join(current_directory, \"..\"))\n",
    "    os.chdir(parent_directory)\n",
    "    \n",
    "    # Verify if we're in the correct directory now\n",
    "    if os.path.basename(os.getcwd()) != project_root:\n",
    "        print(f\"Error: Could not find the project root folder ({project_root}). Please navigate manually.\")\n",
    "        sys.exit(1)\n",
    "    else:\n",
    "        print(f\"Successfully navigated to the project root: {os.getcwd()}\")\n",
    "\n",
    "# Define paths\n",
    "raw_data_folder = \"data/raw\"\n",
    "\n",
    "# Check if the 'data' folder exists and do not create it if it already exists\n",
    "if not os.path.exists(\"data\"):\n",
    "    print(\"Error: The 'data' folder is missing. Please ensure the folder exists in the project root.\")\n",
    "    sys.exit(1)\n",
    "\n",
    "# Make the raw data folder if it doesn't exist\n",
    "os.makedirs(raw_data_folder, exist_ok=True)\n",
    "\n",
    "# Google Drive folder link\n",
    "gdrive_folder_url = \"https://drive.google.com/drive/folders/1zxJuSRigLEg4iY1pnUgW-Z49s2TEKEip?usp=sharing\"\n",
    "\n",
    "print(\"Please ensure that you have used our environment.yaml to install required packages.\")\n",
    "\n",
    "# Step 1: Download the zip files from the shared Google Drive folder\n",
    "print(\"Downloading zip files...\")\n",
    "gdown.download_folder(gdrive_folder_url, output=raw_data_folder, quiet=False, use_cookies=False)\n",
    "\n",
    "# Step 2: Extract the downloaded zip files\n",
    "for file in os.listdir(raw_data_folder):\n",
    "    if file.endswith(\".zip\"):\n",
    "        zip_path = os.path.join(raw_data_folder, file)\n",
    "        extract_path = raw_data_folder  # Extracting in the same location\n",
    "        \n",
    "        print(f\"Extracting {file}...\")\n",
    "        with zipfile.ZipFile(zip_path, 'r') as zip_ref:\n",
    "            zip_ref.extractall(extract_path)\n",
    "        \n",
    "        print(f\"Extracted: {file}\")\n",
    "\n",
    "print(\"All files downloaded and extracted successfully.\")\n",
    "\n",
    "\n",
    "\n"
   ]
  },
  {
   "cell_type": "markdown",
   "metadata": {},
   "source": [
    "## 5. Summary\n",
    "This document outlines the extraction and processing of NOAA AIS data for December 31, 2023, and January 1, 2024. The dataset provides insights into maritime traffic patterns during a high-activity period at the year’s end. The processed data is now available for further analysis and reporting."
   ]
  },
  {
   "cell_type": "markdown",
   "metadata": {},
   "source": [
    "## 6. References:\n",
    "\n",
    "NOAA Official Website: https://www.noaa.gov"
   ]
  }
 ],
 "metadata": {
  "kernelspec": {
   "display_name": "vessel-vision",
   "language": "python",
   "name": "python3"
  },
  "language_info": {
   "codemirror_mode": {
    "name": "ipython",
    "version": 3
   },
   "file_extension": ".py",
   "mimetype": "text/x-python",
   "name": "python",
   "nbconvert_exporter": "python",
   "pygments_lexer": "ipython3",
   "version": "3.13.1"
  }
 },
 "nbformat": 4,
 "nbformat_minor": 2
}
